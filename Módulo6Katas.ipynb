{
  "cells": [
    {
      "cell_type": "markdown",
      "metadata": {},
      "source": [
        "# Ejercicio1: Crear y usar listas de Python\n"
      ]
    },
    {
      "cell_type": "markdown",
      "metadata": {},
      "source": [
        "### Ejercicio: Usar listas para almacenar nombres de planetas\n",
        "Las listas permiten almacenar varios valores en una sola variable. Comenzarás un proyecto sobre información planetaria creando una lista de planetas.\n",
        "\n",
        "> **TIP**\n",
        "> Dedica unos minutos para tratar de encontrar una solución. Luego desplázate hacia abajo hasta la parte inferior para ver si has logrado compilar el programa de acuerdo con las especificaciones"
      ]
    },
    {
      "cell_type": "markdown",
      "metadata": {},
      "source": [
        "En primer lugar, crea una variable denominada `planets`. Agrega los ocho planetas (sin Plutón) a la lista. A continuación, muestra el número de planetas."
      ]
    },
    {
      "cell_type": "code",
      "execution_count": 1,
      "metadata": {},
      "outputs": [
        {
          "name": "stdout",
          "output_type": "stream",
          "text": [
            "El primer planeta es: marte\n",
            "           El segundo planeta es: mercurio\n",
            "           El tercer planeta es: Tierra\n",
            "           El cuarto planeta es: Venus\n",
            "           El quinto planeta es: Jupiter\n",
            "           El sexto planeta es: Neptuno\n",
            "           El séptimo planeta es: Urano\n",
            "           El octavo planeta es: Eris\n",
            "           El número de planetas en la lista es: 8\n"
          ]
        }
      ],
      "source": [
        "# Creamos la lista planets y la mostramos\n",
        "planets = [\"marte\", \"mercurio\",\"Tierra\",\"Venus\",\"Jupiter\",\"Neptuno\",\"Urano\",\"Eris\" ]\n",
        "print (f\"\"\"El primer planeta es: {planets[0]}\n",
        "           El segundo planeta es: {planets[1]}\n",
        "           El tercer planeta es: {planets[2]}\n",
        "           El cuarto planeta es: {planets[3]}\n",
        "           El quinto planeta es: {planets[4]}\n",
        "           El sexto planeta es: {planets[5]}\n",
        "           El séptimo planeta es: {planets[6]}\n",
        "           El octavo planeta es: {planets[7]}\n",
        "           El número de planetas en la lista es: {len(planets)}\"\"\")"
      ]
    },
    {
      "cell_type": "markdown",
      "metadata": {},
      "source": [
        "Agrega a Plutón a la lista que creaste. Luego muestra tanto el número de planetas como el último planeta de la lista."
      ]
    },
    {
      "cell_type": "code",
      "execution_count": 2,
      "metadata": {},
      "outputs": [
        {
          "name": "stdout",
          "output_type": "stream",
          "text": [
            "El último planeta agregado a la lista es: pluton\n",
            "           El número de planetas en la lista es: 9\n"
          ]
        }
      ],
      "source": [
        "# Agregamos a plutón y mostramos el último elemento\n",
        "planets = [\"marte\", \"mercurio\",\"Tierra\",\"Venus\",\"Jupiter\",\"Neptuno\",\"Urano\",\"Eris\" ]\n",
        "planets.append(\"pluton\")\n",
        "print (f\"\"\"El último planeta agregado a la lista es: {planets[-1]}\n",
        "           El número de planetas en la lista es: {len(planets)}\"\"\")\n"
      ]
    },
    {
      "cell_type": "markdown",
      "metadata": {},
      "source": [
        "> Recuerda: Lo importante es intentarlo, puedes auxiliarte de internet, libros, etc. El objetivo de una kata es la comprobación de la comprensión de la lección y su aplicación inmediata a la resolución de problemas. Go for it!"
      ]
    },
    {
      "cell_type": "markdown",
      "metadata": {},
      "source": [
        "## Ejercicio 2: Trabajando con datos de una lista\n",
        "\n",
        "### Usar slices para recuperar partes de una lista"
      ]
    },
    {
      "cell_type": "markdown",
      "metadata": {},
      "source": [
        "Es posible que debas trabajar con diferentes secciones de una lista. En nuestro ejemplo, queremos mostrar planetas más cerca y más lejos del sol de un planeta que el usuario ingresa por teclado.\n",
        "\n",
        "Comienza agregando el código para crear una lista con los planetas."
      ]
    },
    {
      "cell_type": "code",
      "execution_count": null,
      "metadata": {},
      "outputs": [],
      "source": [
        "# Lista de planetas\n",
        "planets = ['Mercury', 'Venus', 'Earth', 'Mars', 'Jupiter', 'Saturn', 'Neptune']"
      ]
    },
    {
      "cell_type": "markdown",
      "metadata": {},
      "source": [
        "### Solicita al usuario el nombre de un planeta\n",
        "\n",
        "A continuación, agrega el código para solicitar al usuario un nombre. Debido a que las cadenas distinguen entre mayúsculas y minúsculas en Python, pídale al usuario que use una letra mayúscula para comenzar el nombre del planeta."
      ]
    },
    {
      "cell_type": "code",
      "execution_count": 3,
      "metadata": {},
      "outputs": [
        {
          "ename": "KeyboardInterrupt",
          "evalue": "Interrupted by user",
          "output_type": "error",
          "traceback": [
            "\u001b[0;31m---------------------------------------------------------------------------\u001b[0m",
            "\u001b[0;31mKeyboardInterrupt\u001b[0m                         Traceback (most recent call last)",
            "\u001b[1;32m/Users/alexisalazar/Downloads/CursoIntroPython-main-2/Módulo 6 - Introducción a las listas/Módulo6Katas.ipynb Cell 12'\u001b[0m in \u001b[0;36m<module>\u001b[0;34m\u001b[0m\n\u001b[1;32m      <a href='vscode-notebook-cell:/Users/alexisalazar/Downloads/CursoIntroPython-main-2/M%C3%B3dulo%206%20-%20Introducci%C3%B3n%20a%20las%20listas/M%C3%B3dulo6Katas.ipynb#ch0000011?line=0'>1</a>\u001b[0m \u001b[39m# Solicitamos el nombre de un planeta *Pista:  input()*\u001b[39;00m\n\u001b[0;32m----> <a href='vscode-notebook-cell:/Users/alexisalazar/Downloads/CursoIntroPython-main-2/M%C3%B3dulo%206%20-%20Introducci%C3%B3n%20a%20las%20listas/M%C3%B3dulo6Katas.ipynb#ch0000011?line=2'>3</a>\u001b[0m name \u001b[39m=\u001b[39m \u001b[39minput\u001b[39;49m(\u001b[39m\"\u001b[39;49m\u001b[39mIngrese el nombre de un planeta:\u001b[39;49m\u001b[39m\"\u001b[39;49m)\n\u001b[1;32m      <a href='vscode-notebook-cell:/Users/alexisalazar/Downloads/CursoIntroPython-main-2/M%C3%B3dulo%206%20-%20Introducci%C3%B3n%20a%20las%20listas/M%C3%B3dulo6Katas.ipynb#ch0000011?line=3'>4</a>\u001b[0m \u001b[39mprint\u001b[39m(\u001b[39mf\u001b[39m\u001b[39m\"\"\"\u001b[39m\u001b[39mel planeta es: \u001b[39m\u001b[39m{\u001b[39;00mnombre\u001b[39m}\u001b[39;00m\u001b[39m\"\"\"\u001b[39m)\n",
            "File \u001b[0;32m/Library/Frameworks/Python.framework/Versions/3.9/lib/python3.9/site-packages/ipykernel/kernelbase.py:1062\u001b[0m, in \u001b[0;36mKernel.raw_input\u001b[0;34m(self, prompt)\u001b[0m\n\u001b[1;32m   <a href='file:///Library/Frameworks/Python.framework/Versions/3.9/lib/python3.9/site-packages/ipykernel/kernelbase.py?line=1057'>1058</a>\u001b[0m \u001b[39mif\u001b[39;00m \u001b[39mnot\u001b[39;00m \u001b[39mself\u001b[39m\u001b[39m.\u001b[39m_allow_stdin:\n\u001b[1;32m   <a href='file:///Library/Frameworks/Python.framework/Versions/3.9/lib/python3.9/site-packages/ipykernel/kernelbase.py?line=1058'>1059</a>\u001b[0m     \u001b[39mraise\u001b[39;00m StdinNotImplementedError(\n\u001b[1;32m   <a href='file:///Library/Frameworks/Python.framework/Versions/3.9/lib/python3.9/site-packages/ipykernel/kernelbase.py?line=1059'>1060</a>\u001b[0m         \u001b[39m\"\u001b[39m\u001b[39mraw_input was called, but this frontend does not support input requests.\u001b[39m\u001b[39m\"\u001b[39m\n\u001b[1;32m   <a href='file:///Library/Frameworks/Python.framework/Versions/3.9/lib/python3.9/site-packages/ipykernel/kernelbase.py?line=1060'>1061</a>\u001b[0m     )\n\u001b[0;32m-> <a href='file:///Library/Frameworks/Python.framework/Versions/3.9/lib/python3.9/site-packages/ipykernel/kernelbase.py?line=1061'>1062</a>\u001b[0m \u001b[39mreturn\u001b[39;00m \u001b[39mself\u001b[39;49m\u001b[39m.\u001b[39;49m_input_request(\n\u001b[1;32m   <a href='file:///Library/Frameworks/Python.framework/Versions/3.9/lib/python3.9/site-packages/ipykernel/kernelbase.py?line=1062'>1063</a>\u001b[0m     \u001b[39mstr\u001b[39;49m(prompt),\n\u001b[1;32m   <a href='file:///Library/Frameworks/Python.framework/Versions/3.9/lib/python3.9/site-packages/ipykernel/kernelbase.py?line=1063'>1064</a>\u001b[0m     \u001b[39mself\u001b[39;49m\u001b[39m.\u001b[39;49m_parent_ident[\u001b[39m\"\u001b[39;49m\u001b[39mshell\u001b[39;49m\u001b[39m\"\u001b[39;49m],\n\u001b[1;32m   <a href='file:///Library/Frameworks/Python.framework/Versions/3.9/lib/python3.9/site-packages/ipykernel/kernelbase.py?line=1064'>1065</a>\u001b[0m     \u001b[39mself\u001b[39;49m\u001b[39m.\u001b[39;49mget_parent(\u001b[39m\"\u001b[39;49m\u001b[39mshell\u001b[39;49m\u001b[39m\"\u001b[39;49m),\n\u001b[1;32m   <a href='file:///Library/Frameworks/Python.framework/Versions/3.9/lib/python3.9/site-packages/ipykernel/kernelbase.py?line=1065'>1066</a>\u001b[0m     password\u001b[39m=\u001b[39;49m\u001b[39mFalse\u001b[39;49;00m,\n\u001b[1;32m   <a href='file:///Library/Frameworks/Python.framework/Versions/3.9/lib/python3.9/site-packages/ipykernel/kernelbase.py?line=1066'>1067</a>\u001b[0m )\n",
            "File \u001b[0;32m/Library/Frameworks/Python.framework/Versions/3.9/lib/python3.9/site-packages/ipykernel/kernelbase.py:1107\u001b[0m, in \u001b[0;36mKernel._input_request\u001b[0;34m(self, prompt, ident, parent, password)\u001b[0m\n\u001b[1;32m   <a href='file:///Library/Frameworks/Python.framework/Versions/3.9/lib/python3.9/site-packages/ipykernel/kernelbase.py?line=1103'>1104</a>\u001b[0m             \u001b[39mbreak\u001b[39;00m\n\u001b[1;32m   <a href='file:///Library/Frameworks/Python.framework/Versions/3.9/lib/python3.9/site-packages/ipykernel/kernelbase.py?line=1104'>1105</a>\u001b[0m \u001b[39mexcept\u001b[39;00m \u001b[39mKeyboardInterrupt\u001b[39;00m:\n\u001b[1;32m   <a href='file:///Library/Frameworks/Python.framework/Versions/3.9/lib/python3.9/site-packages/ipykernel/kernelbase.py?line=1105'>1106</a>\u001b[0m     \u001b[39m# re-raise KeyboardInterrupt, to truncate traceback\u001b[39;00m\n\u001b[0;32m-> <a href='file:///Library/Frameworks/Python.framework/Versions/3.9/lib/python3.9/site-packages/ipykernel/kernelbase.py?line=1106'>1107</a>\u001b[0m     \u001b[39mraise\u001b[39;00m \u001b[39mKeyboardInterrupt\u001b[39;00m(\u001b[39m\"\u001b[39m\u001b[39mInterrupted by user\u001b[39m\u001b[39m\"\u001b[39m) \u001b[39mfrom\u001b[39;00m \u001b[39mNone\u001b[39m\n\u001b[1;32m   <a href='file:///Library/Frameworks/Python.framework/Versions/3.9/lib/python3.9/site-packages/ipykernel/kernelbase.py?line=1107'>1108</a>\u001b[0m \u001b[39mexcept\u001b[39;00m \u001b[39mException\u001b[39;00m:\n\u001b[1;32m   <a href='file:///Library/Frameworks/Python.framework/Versions/3.9/lib/python3.9/site-packages/ipykernel/kernelbase.py?line=1108'>1109</a>\u001b[0m     \u001b[39mself\u001b[39m\u001b[39m.\u001b[39mlog\u001b[39m.\u001b[39mwarning(\u001b[39m\"\u001b[39m\u001b[39mInvalid Message:\u001b[39m\u001b[39m\"\u001b[39m, exc_info\u001b[39m=\u001b[39m\u001b[39mTrue\u001b[39;00m)\n",
            "\u001b[0;31mKeyboardInterrupt\u001b[0m: Interrupted by user"
          ]
        }
      ],
      "source": [
        "# Solicitamos el nombre de un planeta *Pista:  input()*\n",
        "\n",
        "name = input(\"Ingrese el nombre de un planeta:\")\n",
        "print(f\"\"\"el planeta es: {nombre}\"\"\")"
      ]
    },
    {
      "cell_type": "markdown",
      "metadata": {},
      "source": [
        "### Encuentra el planeta en la lista\n",
        "Para determinar qué planetas están más cerca que el que ingresó el usuario, debes encontrar dónde está el planeta en la lista. Puedes utilizar `index` para realizar esta operación. Agrega el código para encontrar el índice del planeta."
      ]
    },
    {
      "cell_type": "code",
      "execution_count": 9,
      "metadata": {},
      "outputs": [
        {
          "ename": "NameError",
          "evalue": "name 'planet' is not defined",
          "output_type": "error",
          "traceback": [
            "\u001b[0;31m---------------------------------------------------------------------------\u001b[0m",
            "\u001b[0;31mNameError\u001b[0m                                 Traceback (most recent call last)",
            "\u001b[1;32m/Users/alexisalazar/Downloads/CursoIntroPython-main-2/Módulo 6 - Introducción a las listas/Módulo6Katas.ipynb Cell 14'\u001b[0m in \u001b[0;36m<module>\u001b[0;34m\u001b[0m\n\u001b[1;32m      <a href='vscode-notebook-cell:/Users/alexisalazar/Downloads/CursoIntroPython-main-2/M%C3%B3dulo%206%20-%20Introducci%C3%B3n%20a%20las%20listas/M%C3%B3dulo6Katas.ipynb#ch0000013?line=0'>1</a>\u001b[0m \u001b[39m# Busca el planeta en la lista\u001b[39;00m\n\u001b[0;32m----> <a href='vscode-notebook-cell:/Users/alexisalazar/Downloads/CursoIntroPython-main-2/M%C3%B3dulo%206%20-%20Introducci%C3%B3n%20a%20las%20listas/M%C3%B3dulo6Katas.ipynb#ch0000013?line=1'>2</a>\u001b[0m planet_index \u001b[39m=\u001b[39m planets\u001b[39m.\u001b[39mindex(planet)\n",
            "\u001b[0;31mNameError\u001b[0m: name 'planet' is not defined"
          ]
        }
      ],
      "source": [
        "# Busca el planeta en la lista\n",
        "planet_index = planets.index(planet)"
      ]
    },
    {
      "cell_type": "markdown",
      "metadata": {},
      "source": [
        "### Mostrar planetas más cercanos al sol que el que el usuario ingresó\n",
        "\n",
        "Con el índice determinado, ahora puedes agregar el código para mostrar los planetas más cercanos al sol."
      ]
    },
    {
      "cell_type": "code",
      "execution_count": 10,
      "metadata": {},
      "outputs": [
        {
          "ename": "NameError",
          "evalue": "name 'user_planet' is not defined",
          "output_type": "error",
          "traceback": [
            "\u001b[0;31m---------------------------------------------------------------------------\u001b[0m",
            "\u001b[0;31mNameError\u001b[0m                                 Traceback (most recent call last)",
            "\u001b[1;32m/Users/alexisalazar/Downloads/CursoIntroPython-main-2/Módulo 6 - Introducción a las listas/Módulo6Katas.ipynb Cell 16'\u001b[0m in \u001b[0;36m<module>\u001b[0;34m\u001b[0m\n\u001b[1;32m      <a href='vscode-notebook-cell:/Users/alexisalazar/Downloads/CursoIntroPython-main-2/M%C3%B3dulo%206%20-%20Introducci%C3%B3n%20a%20las%20listas/M%C3%B3dulo6Katas.ipynb#ch0000015?line=0'>1</a>\u001b[0m \u001b[39m# Muestra los planetas más cercanos al sol\u001b[39;00m\n\u001b[0;32m----> <a href='vscode-notebook-cell:/Users/alexisalazar/Downloads/CursoIntroPython-main-2/M%C3%B3dulo%206%20-%20Introducci%C3%B3n%20a%20las%20listas/M%C3%B3dulo6Katas.ipynb#ch0000015?line=1'>2</a>\u001b[0m \u001b[39mprint\u001b[39m(\u001b[39m'\u001b[39m\u001b[39maqui estan los planetas mas cercanos a \u001b[39m\u001b[39m'\u001b[39m \u001b[39m+\u001b[39m user_planet)\n\u001b[1;32m      <a href='vscode-notebook-cell:/Users/alexisalazar/Downloads/CursoIntroPython-main-2/M%C3%B3dulo%206%20-%20Introducci%C3%B3n%20a%20las%20listas/M%C3%B3dulo6Katas.ipynb#ch0000015?line=2'>3</a>\u001b[0m \u001b[39mprint\u001b[39m(planets[\u001b[39m0\u001b[39m:planet_index])\n",
            "\u001b[0;31mNameError\u001b[0m: name 'user_planet' is not defined"
          ]
        }
      ],
      "source": [
        "# Muestra los planetas más cercanos al sol\n",
        "print('aqui estan los planetas mas cercanos a ' + user_planet)\n",
        "print(planets[0:planet_index])\n"
      ]
    },
    {
      "cell_type": "markdown",
      "metadata": {},
      "source": [
        "# Mostrar planetas más alejados del sol que el que el usuario ingresó\n",
        "\n",
        "Puedes usar el mismo índice para mostrar planetas más alejados del sol. Sin embargo, recuerda que el índice inicial se incluye cuando usas un slice. Como resultado, tendrás que agregar 1 al valor. Agrega el código para mostrar los planetas más alejados del sol."
      ]
    },
    {
      "cell_type": "code",
      "execution_count": 11,
      "metadata": {},
      "outputs": [
        {
          "ename": "NameError",
          "evalue": "name 'user_planet' is not defined",
          "output_type": "error",
          "traceback": [
            "\u001b[0;31m---------------------------------------------------------------------------\u001b[0m",
            "\u001b[0;31mNameError\u001b[0m                                 Traceback (most recent call last)",
            "\u001b[1;32m/Users/alexisalazar/Downloads/CursoIntroPython-main-2/Módulo 6 - Introducción a las listas/Módulo6Katas.ipynb Cell 18'\u001b[0m in \u001b[0;36m<module>\u001b[0;34m\u001b[0m\n\u001b[1;32m      <a href='vscode-notebook-cell:/Users/alexisalazar/Downloads/CursoIntroPython-main-2/M%C3%B3dulo%206%20-%20Introducci%C3%B3n%20a%20las%20listas/M%C3%B3dulo6Katas.ipynb#ch0000017?line=0'>1</a>\u001b[0m \u001b[39m# Muestra los planetas más lejanos al sol\u001b[39;00m\n\u001b[0;32m----> <a href='vscode-notebook-cell:/Users/alexisalazar/Downloads/CursoIntroPython-main-2/M%C3%B3dulo%206%20-%20Introducci%C3%B3n%20a%20las%20listas/M%C3%B3dulo6Katas.ipynb#ch0000017?line=1'>2</a>\u001b[0m \u001b[39mprint\u001b[39m(\u001b[39m'\u001b[39m\u001b[39maqui estan los planetas mas alejados a \u001b[39m\u001b[39m'\u001b[39m \u001b[39m+\u001b[39m user_planet)\n\u001b[1;32m      <a href='vscode-notebook-cell:/Users/alexisalazar/Downloads/CursoIntroPython-main-2/M%C3%B3dulo%206%20-%20Introducci%C3%B3n%20a%20las%20listas/M%C3%B3dulo6Katas.ipynb#ch0000017?line=2'>3</a>\u001b[0m \u001b[39mprint\u001b[39m(planets[planet_index \u001b[39m+\u001b[39m \u001b[39m1\u001b[39m:])\n",
            "\u001b[0;31mNameError\u001b[0m: name 'user_planet' is not defined"
          ]
        }
      ],
      "source": [
        "# Muestra los planetas más lejanos al sol\n",
        "print('aqui estan los planetas mas alejados a ' + user_planet)\n",
        "print(planets[planet_index + 1:])"
      ]
    },
    {
      "cell_type": "markdown",
      "metadata": {},
      "source": [
        "## Soluciones"
      ]
    },
    {
      "cell_type": "markdown",
      "metadata": {},
      "source": [
        "### Ejercicio 1"
      ]
    },
    {
      "cell_type": "code",
      "execution_count": null,
      "metadata": {},
      "outputs": [],
      "source": [
        "# Creamos la lista planets y la mostramos\n",
        "\n",
        "planets = ['Mercury', 'Venus', 'Earth', 'Mars', 'Jupiter', 'Saturn', 'Uranus', 'Neptune']\n",
        "\n",
        "print('There are', len(planets), 'planets')"
      ]
    },
    {
      "cell_type": "code",
      "execution_count": null,
      "metadata": {},
      "outputs": [],
      "source": [
        "# Agregamos a plutón y mostramos el último elemento\n",
        "\n",
        "planets.append('Pluto')\n",
        "\n",
        "print(planets[-1], 'is the last planet')"
      ]
    },
    {
      "cell_type": "markdown",
      "metadata": {},
      "source": [
        "## Ejercicio 2"
      ]
    },
    {
      "cell_type": "code",
      "execution_count": null,
      "metadata": {},
      "outputs": [],
      "source": [
        "# Lista de planetas\n",
        "\n",
        "planets = ['Mercury', 'Venus', 'Earth', 'Mars', 'Jupiter', 'Saturn', 'Neptune']"
      ]
    },
    {
      "cell_type": "code",
      "execution_count": null,
      "metadata": {},
      "outputs": [],
      "source": [
        "# Solicitamos el nombre de un planeta *Pista:  input()*\n",
        "user_planet = input('Please enter the name of the planet (with a capital letter to start)')"
      ]
    },
    {
      "cell_type": "code",
      "execution_count": null,
      "metadata": {},
      "outputs": [],
      "source": [
        "# Busca el planeta en la lista\n",
        "\n",
        "planet_index = planets.index(user_planet)"
      ]
    },
    {
      "cell_type": "code",
      "execution_count": null,
      "metadata": {},
      "outputs": [],
      "source": [
        "# Muestra los planetas más cercanos al sol\n",
        "\n",
        "print('Here are the planets closer than ' + user_planet)\n",
        "print(planets[0:planet_index])"
      ]
    },
    {
      "cell_type": "code",
      "execution_count": null,
      "metadata": {},
      "outputs": [],
      "source": [
        "# Muestra los planetas más lejanos al sol\n",
        "\n",
        "print('Here are the planets further than ' + user_planet)\n",
        "print(planets[planet_index + 1:])"
      ]
    },
    {
      "cell_type": "markdown",
      "metadata": {},
      "source": [
        "Curso Propedútico de Python para Launch X - Innovacción Virtual.\n",
        "\n",
        "Material desarrollado con base en los contenidos de MSLearn y la metáfora de LaunchX, traducción e implementación por: Fernanda Ochoa - Learning Producer de LaunchX.\n",
        "\n",
        "Redes:\n",
        "* GitHub: [FernandaOchoa](https://github.com/FernandaOchoa)\n",
        "* Twitter: [@imonsh](https://twitter.com/imonsh)\n",
        "* Instagram: [fherz8a](https://www.instagram.com/fherz8a/)"
      ]
    }
  ],
  "metadata": {
    "interpreter": {
      "hash": "b8bdd4e700647ba2b08c59e5df8b7da1dcf50a218bcd4c1bcd9b3dc92e8788e5"
    },
    "kernelspec": {
      "display_name": "Python 3.9.1 64-bit",
      "name": "python3"
    },
    "language_info": {
      "codemirror_mode": {
        "name": "ipython",
        "version": 3
      },
      "file_extension": ".py",
      "mimetype": "text/x-python",
      "name": "python",
      "nbconvert_exporter": "python",
      "pygments_lexer": "ipython3",
      "version": "3.9.1"
    },
    "nteract": {
      "version": "nteract-front-end@1.0.0"
    }
  },
  "nbformat": 4,
  "nbformat_minor": 4
}
